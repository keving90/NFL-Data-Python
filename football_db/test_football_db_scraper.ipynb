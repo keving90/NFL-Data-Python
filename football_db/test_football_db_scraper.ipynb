{
 "cells": [
  {
   "cell_type": "markdown",
   "metadata": {},
   "source": [
    "This notebook checks if the fantsy point calculations using `FbDbScraper.get_fantasy_df()` are accurate. The `calc_df` dataset was created using the `get_fantasy_df()` method. The `yahoo_df` dataset was scraped from my Yahoo league's player data using the `yahoo_scraper.py` module. It contains player names and their correct fantasy point totals to test against. The object using the `get_fantasy_df()` method has the same fantasy settings as my Yahoo league."
   ]
  },
  {
   "cell_type": "markdown",
   "metadata": {},
   "source": [
    "Add `..` to the path and import the necessary modules:"
   ]
  },
  {
   "cell_type": "code",
   "execution_count": 1,
   "metadata": {},
   "outputs": [],
   "source": [
    "import os\n",
    "import sys\n",
    "\n",
    "sys.path.append('..')\n",
    "\n",
    "from football_db_scraper import FbDbScraper\n",
    "from pro_football_ref.pro_football_ref_scraper2 import ProFbRefScraper\n",
    "import pandas as pd\n",
    "import numpy as np"
   ]
  },
  {
   "cell_type": "markdown",
   "metadata": {},
   "source": [
    "Create an object:"
   ]
  },
  {
   "cell_type": "code",
   "execution_count": 2,
   "metadata": {},
   "outputs": [],
   "source": [
    "fb_db = FbDbScraper()"
   ]
  },
  {
   "cell_type": "markdown",
   "metadata": {},
   "source": [
    "Get the data frames:"
   ]
  },
  {
   "cell_type": "code",
   "execution_count": 3,
   "metadata": {},
   "outputs": [],
   "source": [
    "calc_df = fb_db.get_fantasy_df(start_year=2017, end_year=2017)\n",
    "yahoo_df = pd.read_csv('yahoo_data.csv')"
   ]
  },
  {
   "cell_type": "markdown",
   "metadata": {},
   "source": [
    "Take a quick look at how each data frame is shaped (mainly concerned with the number of rows):"
   ]
  },
  {
   "cell_type": "code",
   "execution_count": 4,
   "metadata": {},
   "outputs": [
    {
     "data": {
      "text/plain": [
       "(613, 36)"
      ]
     },
     "execution_count": 4,
     "metadata": {},
     "output_type": "execute_result"
    }
   ],
   "source": [
    "calc_df.shape"
   ]
  },
  {
   "cell_type": "code",
   "execution_count": 5,
   "metadata": {},
   "outputs": [
    {
     "data": {
      "text/plain": [
       "(1050, 3)"
      ]
     },
     "execution_count": 5,
     "metadata": {},
     "output_type": "execute_result"
    }
   ],
   "source": [
    "yahoo_df.shape"
   ]
  },
  {
   "cell_type": "markdown",
   "metadata": {},
   "source": [
    "Sort the values in case the data sets need to be looked at:"
   ]
  },
  {
   "cell_type": "code",
   "execution_count": 6,
   "metadata": {},
   "outputs": [],
   "source": [
    "calc_df.sort_values(by='fantasy_points', axis=0, ascending=False, inplace=True)\n",
    "yahoo_df.sort_values(by='fantasy_points', axis=0, ascending=False, inplace=True)"
   ]
  },
  {
   "cell_type": "markdown",
   "metadata": {},
   "source": [
    "Get a list of player names that are in each data set.\n",
    "\n",
    "***Note:*** There are names in one data frame that are not in another data frame. In this case, we are not concerned with which names are in one data frame compared to the other. We are only interested in if the fantasy point calculations are correct."
   ]
  },
  {
   "cell_type": "code",
   "execution_count": 7,
   "metadata": {},
   "outputs": [],
   "source": [
    "names = [name for name in calc_df['name'].values if name in yahoo_df['name'].values]"
   ]
  },
  {
   "cell_type": "markdown",
   "metadata": {},
   "source": [
    "The number of players in each data set:"
   ]
  },
  {
   "cell_type": "code",
   "execution_count": 8,
   "metadata": {},
   "outputs": [
    {
     "data": {
      "text/plain": [
       "526"
      ]
     },
     "execution_count": 8,
     "metadata": {},
     "output_type": "execute_result"
    }
   ],
   "source": [
    "len(names)"
   ]
  },
  {
   "cell_type": "markdown",
   "metadata": {},
   "source": [
    "Get a list of players whose fantasy point calculations are not the same as the actual amount. An empty list means all calculations are correct:"
   ]
  },
  {
   "cell_type": "code",
   "execution_count": 9,
   "metadata": {},
   "outputs": [],
   "source": [
    "incorrect = []\n",
    "for name in names:\n",
    "    if name == 'Chris Thompson':\n",
    "        # There are two Chris Thompsons in the dataset, which leads to issues when grabbing from the name column.\n",
    "        # Therefore, we will leave those players out.\n",
    "        continue\n",
    "    calculated = round(calc_df[calc_df['name'] == name]['fantasy_points'].values[0], 2)\n",
    "    yahoo = yahoo_df[yahoo_df['name'] == name]['fantasy_points'].values[0]\n",
    "    if calculated != yahoo:\n",
    "        incorrect.append(name)"
   ]
  },
  {
   "cell_type": "markdown",
   "metadata": {},
   "source": [
    "All calculations are correct! (so it seems at least)"
   ]
  },
  {
   "cell_type": "code",
   "execution_count": 10,
   "metadata": {},
   "outputs": [
    {
     "data": {
      "text/plain": [
       "0"
      ]
     },
     "execution_count": 10,
     "metadata": {},
     "output_type": "execute_result"
    }
   ],
   "source": [
    "len(incorrect)"
   ]
  },
  {
   "cell_type": "code",
   "execution_count": 11,
   "metadata": {},
   "outputs": [
    {
     "data": {
      "text/plain": [
       "[]"
      ]
     },
     "execution_count": 11,
     "metadata": {},
     "output_type": "execute_result"
    }
   ],
   "source": [
    "incorrect"
   ]
  }
 ],
 "metadata": {
  "kernelspec": {
   "display_name": "Python 3",
   "language": "python",
   "name": "python3"
  },
  "language_info": {
   "codemirror_mode": {
    "name": "ipython",
    "version": 3
   },
   "file_extension": ".py",
   "mimetype": "text/x-python",
   "name": "python",
   "nbconvert_exporter": "python",
   "pygments_lexer": "ipython3",
   "version": "3.6.5"
  }
 },
 "nbformat": 4,
 "nbformat_minor": 2
}
