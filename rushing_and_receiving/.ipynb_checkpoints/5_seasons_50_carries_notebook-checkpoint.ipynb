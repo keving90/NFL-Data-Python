{
 "cells": [
  {
   "cell_type": "markdown",
   "metadata": {},
   "source": [
    "### Which running backs have had 50+ carries in each of the last 5 years?"
   ]
  },
  {
   "cell_type": "markdown",
   "metadata": {},
   "source": [
    "This notebook scrapes data from [Pro Football Reference](https://www.pro-football-reference.com/)'s Rushing and Receiving data table and places it into a data frame ([sample table](https://www.pro-football-reference.com/years/2017/rushing.htm)). The notebook uses the `Requests` and `Beautiful Soup 4` modules to gather the web page data. A `Player` class is used to create objects representing a single player. The program loops through the 5 most recent NFL seasons and gathers data for each season. A column for the player's fantasy points for the season is added to each data frame. The points total is based on a standard Yahoo! league (0 PPR). The scoring can be changed in the `FANTASY_SETTINGS_DICT` dictionary. A data frame for each season is placed in a list, and this list is concatenated into one big data frame. Then, various manipulations are made to the data frame to find all running backs who have had 50 or more rushing attempts in each of the last 5 years. The final data frame is saved as a `.csv` file.\n",
    "\n",
    "** Note: **This dataset does not include 2 point conversions. This will affect the fantasy point total for some players. Luckily, few running backs get many 2 point conversions (9 RB's in 2017 each had only 1 conversion; the rest had 0)  This will only have a small affect on the point total for some of the running backs."
   ]
  },
  {
   "cell_type": "markdown",
   "metadata": {},
   "source": [
    "Import the needed modules:"
   ]
  },
  {
   "cell_type": "code",
   "execution_count": 1,
   "metadata": {},
   "outputs": [
    {
     "ename": "ModuleNotFoundError",
     "evalue": "No module named 'player'",
     "output_type": "error",
     "traceback": [
      "\u001b[0;31m---------------------------------------------------------------------------\u001b[0m",
      "\u001b[0;31mModuleNotFoundError\u001b[0m                       Traceback (most recent call last)",
      "\u001b[0;32m<ipython-input-1-1a31f22d4021>\u001b[0m in \u001b[0;36m<module>\u001b[0;34m()\u001b[0m\n\u001b[1;32m      1\u001b[0m \u001b[0;32mimport\u001b[0m \u001b[0mpandas\u001b[0m \u001b[0;32mas\u001b[0m \u001b[0mpd\u001b[0m\u001b[0;34m\u001b[0m\u001b[0m\n\u001b[1;32m      2\u001b[0m \u001b[0;32mimport\u001b[0m \u001b[0mdatetime\u001b[0m\u001b[0;34m\u001b[0m\u001b[0m\n\u001b[0;32m----> 3\u001b[0;31m \u001b[0;32mimport\u001b[0m \u001b[0mrush_rec_scraper\u001b[0m \u001b[0;32mas\u001b[0m \u001b[0mrrs\u001b[0m\u001b[0;34m\u001b[0m\u001b[0m\n\u001b[0m\u001b[1;32m      4\u001b[0m \u001b[0;34m\u001b[0m\u001b[0m\n\u001b[1;32m      5\u001b[0m \u001b[0;32mfrom\u001b[0m \u001b[0mconstants\u001b[0m \u001b[0;32mimport\u001b[0m \u001b[0mHEADER\u001b[0m\u001b[0;34m,\u001b[0m \u001b[0mFANTASY_SETTINGS_DICT\u001b[0m\u001b[0;34m\u001b[0m\u001b[0m\n",
      "\u001b[0;32m/Users/Kevin/PycharmProjects/football_data/rushing_and_receiving/rush_rec_scraper.py\u001b[0m in \u001b[0;36m<module>\u001b[0;34m()\u001b[0m\n\u001b[1;32m     14\u001b[0m \u001b[0;31m# sys.path.append(\"..\")\u001b[0m\u001b[0;34m\u001b[0m\u001b[0;34m\u001b[0m\u001b[0m\n\u001b[1;32m     15\u001b[0m \u001b[0;34m\u001b[0m\u001b[0m\n\u001b[0;32m---> 16\u001b[0;31m \u001b[0;32mfrom\u001b[0m \u001b[0mplayer\u001b[0m \u001b[0;32mimport\u001b[0m \u001b[0mPlayer\u001b[0m\u001b[0;34m\u001b[0m\u001b[0m\n\u001b[0m\u001b[1;32m     17\u001b[0m \u001b[0;34m\u001b[0m\u001b[0m\n\u001b[1;32m     18\u001b[0m \u001b[0;34m\u001b[0m\u001b[0m\n",
      "\u001b[0;31mModuleNotFoundError\u001b[0m: No module named 'player'"
     ]
    }
   ],
   "source": [
    "import pandas as pd\n",
    "import datetime\n",
    "import rush_rec_scraper as rrs\n",
    "\n",
    "from constants import HEADER, FANTASY_SETTINGS_DICT\n",
    "\n",
    "import sys\n",
    "sys.path.append(\"..\")"
   ]
  },
  {
   "cell_type": "code",
   "execution_count": null,
   "metadata": {
    "collapsed": true
   },
   "outputs": [],
   "source": [
    "def modify_data_frame(data_frame_list, num_years, player_url=False):\n",
    "    \"\"\"\n",
    "    This function takes a list of data frames as input. It concatenates the data frames together\n",
    "    to create one large data frame. It then modifies the data to get the running backs with 50 or\n",
    "    more carries in each of the past num_years season. The modified data frame is returned.\n",
    "    \"\"\"\n",
    "    # Concatenate the data frames to create one large data frame that has data for each season.\n",
    "    big_df = pd.concat(data_frame_list)\n",
    "\n",
    "    # Keep the player_url column in the data frame when player_url=True\n",
    "    if not player_url:\n",
    "        big_df.drop('url', axis=1, inplace=True)\n",
    "\n",
    "    # The concatenation creates duplicate indexes, so we will reset the index\n",
    "    big_df.reset_index(inplace=True, drop=True)\n",
    "\n",
    "    # Eliminate players with fewer than 50 rush attempts.\n",
    "    big_df = big_df[big_df['rush_attempts'] >= 50]\n",
    "\n",
    "    # Some players have a NaN value their position. Any player with 50 or more rush attempts,\n",
    "    # but no position is likely a running back.\n",
    "    big_df['position'] = big_df['position'].fillna('RB')\n",
    "\n",
    "    # Some running backs have their position description in lowercase letters.\n",
    "    # Use a lambda function to fix this inconsistency.\n",
    "    big_df['position'] = big_df['position'].apply(lambda x: 'RB' if 'rb' in x else x)\n",
    "\n",
    "    # Only interested in running backs\n",
    "    big_df = big_df[big_df['position'] == 'RB']\n",
    "\n",
    "    # Set the player's name and the season's year as the indexes.\n",
    "    big_df = big_df.set_index(['name', 'year'])\n",
    "\n",
    "    # Sort the data frame by the player's name\n",
    "    big_df.sort_index(level='name', inplace=True)\n",
    "\n",
    "    # Get each player's name\n",
    "    names = big_df.index.get_level_values('name').unique()\n",
    "\n",
    "    # Loop through each player. If they don't have num_years season's worth of data, then we\n",
    "    # drop them from the data set.\n",
    "    for name in names:\n",
    "        if len(big_df.loc[name]) != num_years:\n",
    "            big_df.drop(name, inplace=True)\n",
    "\n",
    "    return big_df"
   ]
  },
  {
   "cell_type": "markdown",
   "metadata": {},
   "source": [
    "We can now execute the functions and create the final data frame:"
   ]
  },
  {
   "cell_type": "code",
   "execution_count": null,
   "metadata": {},
   "outputs": [],
   "source": [
    "# Get the current date to help figure out which year to start gathering data from.\n",
    "now = datetime.datetime.now()\n",
    "\n",
    "# Number of years of data.\n",
    "num_years = 5\n",
    "\n",
    "# Starting with last year since it's a full season of data.\n",
    "# Regular season football ends in late December or early January, so if the current\n",
    "# date is late December, and the season has already ended, then unfortunately the\n",
    "# newly created season will not be included in the data set.\n",
    "# Football season starts the week after Labor Day weekend. Labor Day is always on\n",
    "# the first Monday of September, and the NFL regular season is 17 weeks long\n",
    "# (16 games + bye week for a team). From my initial calculations, if September 1 is\n",
    "# Labor Day, then the NFL regular season ends on December 28.\n",
    "start_year = now.year - 1\n",
    "\n",
    "# Get the final year to gather data from.\n",
    "end_year = start_year - num_years\n",
    "\n",
    "# First, we need to scrape the data from Pro-Football Reference.\n",
    "\n",
    "# Holds each data frame scraped from Pro-Football Reference.\n",
    "# Each data frame has data for a single season.\n",
    "data_frame_list = []\n",
    "\n",
    "# Iterate through each year of data and create a data frame for each one.\n",
    "for year in range(start_year, end_year, -1):\n",
    "    # Scrape the data to get each player's web page elements.\n",
    "    player_list = rrs.scrape_data(year)\n",
    "\n",
    "    # Use the elements to create Player objects.\n",
    "    list_of_player_dicts = rrs.create_player_objects(player_list, HEADER)\n",
    "\n",
    "    # Create a data frame for the season\n",
    "    df = rrs.make_data_frame(list_of_player_dicts, year, HEADER, FANTASY_SETTINGS_DICT)\n",
    "\n",
    "    data_frame_list.append(df)\n",
    "\n",
    "# Concatenate the data frames and clean the data.\n",
    "big_df = modify_data_frame(data_frame_list, num_years, False)\n",
    "\n",
    "# Write the data frame to a csv file and save it in the current working directory.\n",
    "# big_df.to_csv('5_seasons_50_carries_from_notebook.csv')"
   ]
  },
  {
   "cell_type": "markdown",
   "metadata": {
    "collapsed": true
   },
   "source": [
    "The dimensions of the data frame (number of rows, number of columns):"
   ]
  },
  {
   "cell_type": "code",
   "execution_count": null,
   "metadata": {},
   "outputs": [],
   "source": [
    "big_df.shape"
   ]
  },
  {
   "cell_type": "markdown",
   "metadata": {},
   "source": [
    "Number of running backs with 50 or more carriers in each of the past 5 seasons (2013-2017):"
   ]
  },
  {
   "cell_type": "code",
   "execution_count": null,
   "metadata": {},
   "outputs": [],
   "source": [
    "len(big_df.index.get_level_values('name').unique())"
   ]
  },
  {
   "cell_type": "markdown",
   "metadata": {},
   "source": [
    "The name of each player with 50 or more rush attempts in each of the last 5 seasons:"
   ]
  },
  {
   "cell_type": "code",
   "execution_count": null,
   "metadata": {},
   "outputs": [],
   "source": [
    "for name in big_df.index.get_level_values('name').unique():\n",
    "    print(name)"
   ]
  },
  {
   "cell_type": "markdown",
   "metadata": {},
   "source": [
    "No running back has a season with fewer than 50 rush attempts:"
   ]
  },
  {
   "cell_type": "code",
   "execution_count": null,
   "metadata": {},
   "outputs": [],
   "source": [
    "big_df['rush_attempts'].min()"
   ]
  },
  {
   "cell_type": "markdown",
   "metadata": {},
   "source": [
    "The data set:"
   ]
  },
  {
   "cell_type": "code",
   "execution_count": null,
   "metadata": {},
   "outputs": [],
   "source": [
    "big_df"
   ]
  },
  {
   "cell_type": "code",
   "execution_count": null,
   "metadata": {
    "collapsed": true
   },
   "outputs": [],
   "source": []
  }
 ],
 "metadata": {
  "kernelspec": {
   "display_name": "Python 3",
   "language": "python",
   "name": "python3"
  },
  "language_info": {
   "codemirror_mode": {
    "name": "ipython",
    "version": 3
   },
   "file_extension": ".py",
   "mimetype": "text/x-python",
   "name": "python",
   "nbconvert_exporter": "python",
   "pygments_lexer": "ipython3",
   "version": "3.6.1"
  }
 },
 "nbformat": 4,
 "nbformat_minor": 2
}
